{
 "cells": [
  {
   "cell_type": "markdown",
   "metadata": {},
   "source": [
    "#### Importing modules"
   ]
  },
  {
   "cell_type": "code",
   "execution_count": 55,
   "metadata": {},
   "outputs": [],
   "source": [
    "import numpy as np\n",
    "import matplotlib.pyplot as plt\n",
    "import torch \n",
    "import torch.nn as nn\n",
    "import torch.optim as optim\n",
    "import torch.nn.functional as F\n",
    "from torchvision import datasets, transforms\n",
    "from torch.utils.data import DataLoader"
   ]
  },
  {
   "cell_type": "markdown",
   "metadata": {},
   "source": [
    "#### Loading the data from keras dataset"
   ]
  },
  {
   "cell_type": "code",
   "execution_count": 75,
   "metadata": {},
   "outputs": [],
   "source": [
    "device = torch.device(\"mps\")"
   ]
  },
  {
   "cell_type": "code",
   "execution_count": 80,
   "metadata": {},
   "outputs": [],
   "source": [
    "# Setting up hyperparameter\n",
    "input_size = 784  # 28x28\n",
    "hidden_size = 100\n",
    "num_classes = 10\n",
    "num_epochs = 10\n",
    "batch_size = 100\n",
    "learning_rate = 0.001"
   ]
  },
  {
   "cell_type": "code",
   "execution_count": 62,
   "metadata": {},
   "outputs": [],
   "source": [
    "# MNIST dataset\n",
    "train_dataset = datasets.MNIST(root='./data', train=True, transform=transforms.ToTensor(), download=True)\n",
    "test_dataset = datasets.MNIST(root='./data', train=False, transform=transforms.ToTensor())"
   ]
  },
  {
   "cell_type": "code",
   "execution_count": 64,
   "metadata": {},
   "outputs": [],
   "source": [
    "train_loader = DataLoader(dataset=train_dataset, batch_size=batch_size, shuffle=True)\n",
    "test_loader = DataLoader(dataset=test_dataset, batch_size=batch_size, shuffle=False)"
   ]
  },
  {
   "cell_type": "code",
   "execution_count": 67,
   "metadata": {},
   "outputs": [
    {
     "name": "stdout",
     "output_type": "stream",
     "text": [
      "torch.Size([100, 1, 28, 28]) torch.Size([100])\n"
     ]
    }
   ],
   "source": [
    "examples = iter(train_loader)\n",
    "samples, labels = next(examples)\n",
    "print(samples.shape, labels.shape)"
   ]
  },
  {
   "cell_type": "code",
   "execution_count": 69,
   "metadata": {},
   "outputs": [
    {
     "data": {
      "image/png": "[encoded data removed]",
      "text/plain": [
       "<Figure size 640x480 with 6 Axes>"
      ]
     },
     "metadata": {},
     "output_type": "display_data"
    }
   ],
   "source": [
    "for i in range(6):\n",
    "    plt.subplot(2,3,i+1)\n",
    "    plt.imshow(samples[i][0], cmap='gray')\n",
    "plt.show()"
   ]
  },
  {
   "cell_type": "code",
   "execution_count": 92,
   "metadata": {},
   "outputs": [
    {
     "data": {
      "text/plain": [
       "NeuralNet(\n",
       "  (l1): Linear(in_features=784, out_features=256, bias=True)\n",
       "  (relu): ReLU()\n",
       "  (l2): Linear(in_features=256, out_features=128, bias=True)\n",
       "  (l3): Linear(in_features=128, out_features=64, bias=True)\n",
       "  (l4): Linear(in_features=64, out_features=64, bias=True)\n",
       "  (l5): Linear(in_features=64, out_features=128, bias=True)\n",
       "  (l6): Linear(in_features=128, out_features=10, bias=True)\n",
       ")"
      ]
     },
     "execution_count": 92,
     "metadata": {},
     "output_type": "execute_result"
    }
   ],
   "source": [
    "class NeuralNet(nn.Module):\n",
    "    def __init__(self, input_size, hidden_size, num_classes):\n",
    "        super(NeuralNet, self).__init__()\n",
    "        self.l1 = nn.Linear(input_size, 256)\n",
    "        self.relu = nn.ReLU()\n",
    "        self.l2 = nn.Linear(256, 128)\n",
    "        self.l3 = nn.Linear(128, 64)\n",
    "        self.l4 = nn.Linear(64, 64)\n",
    "        self.l5 = nn.Linear(64, 128)\n",
    "        self.l6 = nn.Linear(128, num_classes)\n",
    "\n",
    "    def forward(self, x):\n",
    "        out = self.l1(x)\n",
    "        out = self.relu(out)\n",
    "        out = self.l2(out)\n",
    "        out = self.relu(out)\n",
    "        out = self.l3(out)\n",
    "        out = self.relu(out)\n",
    "        out = self.l4(out)\n",
    "        out = self.relu(out)\n",
    "        out = self.l5(out)\n",
    "        out = self.relu(out)\n",
    "        out = self.l6(out)\n",
    "        return out\n",
    "\n",
    "model = NeuralNet(input_size, hidden_size, num_classes)\n",
    "model.to(mps_device)"
   ]
  },
  {
   "cell_type": "code",
   "execution_count": 90,
   "metadata": {},
   "outputs": [],
   "source": [
    "# loss and optimiser\n",
    "\n",
    "criterion = nn.CrossEntropyLoss()\n",
    "optimizer = optim.Adam(model.parameters(), lr=learning_rate)"
   ]
  },
  {
   "cell_type": "code",
   "execution_count": 93,
   "metadata": {},
   "outputs": [
    {
     "name": "stdout",
     "output_type": "stream",
     "text": [
      "epoch 1 / 10, step 100/600, loss = 2.3002\n",
      "epoch 1 / 10, step 200/600, loss = 2.3023\n",
      "epoch 1 / 10, step 300/600, loss = 2.2984\n",
      "epoch 1 / 10, step 400/600, loss = 2.3001\n",
      "epoch 1 / 10, step 500/600, loss = 2.2972\n",
      "epoch 1 / 10, step 600/600, loss = 2.3067\n",
      "epoch 2 / 10, step 100/600, loss = 2.3076\n",
      "epoch 2 / 10, step 200/600, loss = 2.3053\n",
      "epoch 2 / 10, step 300/600, loss = 2.3025\n",
      "epoch 2 / 10, step 400/600, loss = 2.3060\n",
      "epoch 2 / 10, step 500/600, loss = 2.3027\n",
      "epoch 2 / 10, step 600/600, loss = 2.3011\n",
      "epoch 3 / 10, step 100/600, loss = 2.3032\n",
      "epoch 3 / 10, step 200/600, loss = 2.3013\n",
      "epoch 3 / 10, step 300/600, loss = 2.3082\n",
      "epoch 3 / 10, step 400/600, loss = 2.3047\n",
      "epoch 3 / 10, step 500/600, loss = 2.3014\n",
      "epoch 3 / 10, step 600/600, loss = 2.3024\n",
      "epoch 4 / 10, step 100/600, loss = 2.3041\n",
      "epoch 4 / 10, step 200/600, loss = 2.3029\n",
      "epoch 4 / 10, step 300/600, loss = 2.2932\n",
      "epoch 4 / 10, step 400/600, loss = 2.3063\n",
      "epoch 4 / 10, step 500/600, loss = 2.3083\n",
      "epoch 4 / 10, step 600/600, loss = 2.3000\n",
      "epoch 5 / 10, step 100/600, loss = 2.3008\n",
      "epoch 5 / 10, step 200/600, loss = 2.2975\n",
      "epoch 5 / 10, step 300/600, loss = 2.2970\n",
      "epoch 5 / 10, step 400/600, loss = 2.2990\n",
      "epoch 5 / 10, step 500/600, loss = 2.2969\n",
      "epoch 5 / 10, step 600/600, loss = 2.3017\n",
      "epoch 6 / 10, step 100/600, loss = 2.2938\n",
      "epoch 6 / 10, step 200/600, loss = 2.2984\n",
      "epoch 6 / 10, step 300/600, loss = 2.3008\n",
      "epoch 6 / 10, step 400/600, loss = 2.3022\n",
      "epoch 6 / 10, step 500/600, loss = 2.3094\n",
      "epoch 6 / 10, step 600/600, loss = 2.3059\n",
      "epoch 7 / 10, step 100/600, loss = 2.3058\n",
      "epoch 7 / 10, step 200/600, loss = 2.3072\n",
      "epoch 7 / 10, step 300/600, loss = 2.3053\n",
      "epoch 7 / 10, step 400/600, loss = 2.3047\n",
      "epoch 7 / 10, step 500/600, loss = 2.2998\n",
      "epoch 7 / 10, step 600/600, loss = 2.2977\n",
      "epoch 8 / 10, step 100/600, loss = 2.3053\n",
      "epoch 8 / 10, step 200/600, loss = 2.2991\n",
      "epoch 8 / 10, step 300/600, loss = 2.3022\n",
      "epoch 8 / 10, step 400/600, loss = 2.3114\n",
      "epoch 8 / 10, step 500/600, loss = 2.2983\n",
      "epoch 8 / 10, step 600/600, loss = 2.3067\n",
      "epoch 9 / 10, step 100/600, loss = 2.3077\n",
      "epoch 9 / 10, step 200/600, loss = 2.2982\n",
      "epoch 9 / 10, step 300/600, loss = 2.2997\n",
      "epoch 9 / 10, step 400/600, loss = 2.3039\n",
      "epoch 9 / 10, step 500/600, loss = 2.3056\n",
      "epoch 9 / 10, step 600/600, loss = 2.3005\n",
      "epoch 10 / 10, step 100/600, loss = 2.2965\n",
      "epoch 10 / 10, step 200/600, loss = 2.3089\n",
      "epoch 10 / 10, step 300/600, loss = 2.3054\n",
      "epoch 10 / 10, step 400/600, loss = 2.3056\n",
      "epoch 10 / 10, step 500/600, loss = 2.2980\n",
      "epoch 10 / 10, step 600/600, loss = 2.3061\n"
     ]
    }
   ],
   "source": [
    "# training loop\n",
    "n_total_steps = len(train_loader)\n",
    "for epoch in range(num_epochs):\n",
    "    for i, (images,labels) in enumerate(train_loader):\n",
    "        images = images.reshape(-1, 28*28).to(device)\n",
    "        labels = labels.to(device)\n",
    "\n",
    "        # forward\n",
    "        outputs = model(images)\n",
    "        loss = criterion(outputs, labels)\n",
    "\n",
    "        # backward\n",
    "        optimizer.zero_grad()\n",
    "        loss.backward()\n",
    "        optimizer.step()\n",
    "\n",
    "        if (i+1) % 100 == 0:\n",
    "            print(f'epoch {epoch+1} / {num_epochs}, step {i+1}/{n_total_steps}, loss = {loss.item():.4f}')"
   ]
  },
  {
   "cell_type": "code",
   "execution_count": 82,
   "metadata": {},
   "outputs": [
    {
     "name": "stdout",
     "output_type": "stream",
     "text": [
      "accuracy = 97.71\n"
     ]
    }
   ],
   "source": [
    "with torch.no_grad():\n",
    "    n_correct = 0\n",
    "    n_samples = 0\n",
    "    for images, labels in test_loader:\n",
    "        images = images.reshape(-1, 28*28).to(device)\n",
    "        labels = labels.to(device)\n",
    "        outputs = model(images)\n",
    "        # max returns (value, index)\n",
    "        _, predicted = torch.max(outputs.data, 1)\n",
    "        n_samples += labels.size(0)\n",
    "        n_correct += (predicted == labels).sum().item()\n",
    "\n",
    "    acc = 100.0 * n_correct / n_samples\n",
    "    print(f'accuracy = {acc}')"
   ]
  },
  {
   "cell_type": "code",
   "execution_count": null,
   "metadata": {},
   "outputs": [],
   "source": []
  }
 ],
 "metadata": {
  "kernelspec": {
   "display_name": "tensorflow",
   "language": "python",
   "name": "python3"
  },
  "language_info": {
   "codemirror_mode": {
    "name": "ipython",
    "version": 3
   },
   "file_extension": ".py",
   "mimetype": "text/x-python",
   "name": "python",
   "nbconvert_exporter": "python",
   "pygments_lexer": "ipython3",
   "version": "3.8.17"
  }
 },
 "nbformat": 4,
 "nbformat_minor": 2
}
