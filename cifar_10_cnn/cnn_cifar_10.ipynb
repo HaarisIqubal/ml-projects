{
 "cells": [
  {
   "cell_type": "code",
   "execution_count": 2,
   "metadata": {},
   "outputs": [],
   "source": [
    "import torch\n",
    "import torch.nn as nn\n",
    "import torchvision\n",
    "import torchvision.transforms as transforms\n",
    "import torch.nn.functional as F\n",
    "import matplotlib.pyplot as plt\n",
    "import numpy as np"
   ]
  },
  {
   "cell_type": "code",
   "execution_count": 3,
   "metadata": {},
   "outputs": [],
   "source": [
    "device = torch.device(\"mps\")"
   ]
  },
  {
   "cell_type": "code",
   "execution_count": 4,
   "metadata": {},
   "outputs": [],
   "source": [
    "num_epochs = 10\n",
    "batch_size = 4\n",
    "learning_rate = 0.001"
   ]
  },
  {
   "cell_type": "code",
   "execution_count": 6,
   "metadata": {},
   "outputs": [],
   "source": [
    "transform = transforms.Compose([\n",
    "    transforms.ToTensor(),\n",
    "    transforms.Normalize((0.5, 0.5, 0.5), (0.5, 0.5, 0.5))\n",
    "])"
   ]
  },
  {
   "cell_type": "code",
   "execution_count": 7,
   "metadata": {},
   "outputs": [
    {
     "name": "stdout",
     "output_type": "stream",
     "text": [
      "Downloading https://www.cs.toronto.edu/~kriz/cifar-10-python.tar.gz to ./data/cifar-10-python.tar.gz\n"
     ]
    },
    {
     "name": "stderr",
     "output_type": "stream",
     "text": [
      "100%|██████████| 170498071/170498071 [00:33<00:00, 5026111.03it/s]\n"
     ]
    },
    {
     "name": "stdout",
     "output_type": "stream",
     "text": [
      "Extracting ./data/cifar-10-python.tar.gz to ./data\n",
      "Files already downloaded and verified\n"
     ]
    }
   ],
   "source": [
    "train_dataset = torchvision.datasets.CIFAR10(root=\"./data\", train=True, download=True, transform=transform)\n",
    "test_dataset = torchvision.datasets.CIFAR10(root=\"./data\", train=False, download=True, transform=transform)\n",
    "\n",
    "train_loader = torch.utils.data.DataLoader(train_dataset, batch_size=batch_size, shuffle=True)\n",
    "test_loader = torch.utils.data.DataLoader(test_dataset, batch_size=batch_size, shuffle=False)"
   ]
  },
  {
   "cell_type": "code",
   "execution_count": 9,
   "metadata": {},
   "outputs": [],
   "source": [
    "classes = ('plane','car','bird','cat','deer','dog','frog','horse','ship','truck')"
   ]
  },
  {
   "cell_type": "code",
   "execution_count": 17,
   "metadata": {},
   "outputs": [],
   "source": [
    "class ConvNet(nn.Module):\n",
    "    def __init__(self):\n",
    "        super(ConvNet,self).__init__()\n",
    "        self.conv1 = nn.Conv2d(3, 6, 5)\n",
    "        self.pool = nn.MaxPool2d(2,2)\n",
    "        self.conv2 = nn.Conv2d(6,16,5)\n",
    "        self.fc1 = nn.Linear(16*5*5, 120)\n",
    "        self.fc2 = nn.Linear(120, 84)\n",
    "        self.fc3 = nn.Linear(84, 10)\n",
    "        \n",
    "    def forward(self, x):\n",
    "        x = self.pool(F.relu(self.conv1(x)))\n",
    "        x = self.pool(F.relu(self.conv2(x)))\n",
    "        x = x.view(-1, 16*5*5)\n",
    "        x = F.relu(self.fc1(x))\n",
    "        x = F.relu(self.fc2(x))\n",
    "        x = self.fc3(x)\n",
    "        return x\n"
   ]
  },
  {
   "cell_type": "code",
   "execution_count": 18,
   "metadata": {},
   "outputs": [],
   "source": [
    "model = ConvNet().to(device)"
   ]
  },
  {
   "cell_type": "code",
   "execution_count": 19,
   "metadata": {},
   "outputs": [],
   "source": [
    "criterion = nn.CrossEntropyLoss()\n",
    "optimizer = torch.optim.SGD(model.parameters(), lr=learning_rate)"
   ]
  },
  {
   "cell_type": "code",
   "execution_count": 21,
   "metadata": {},
   "outputs": [
    {
     "name": "stdout",
     "output_type": "stream",
     "text": [
      "epoch 1/10, step 2000/12500, loss = 2.2953\n",
      "epoch 1/10, step 4000/12500, loss = 2.2760\n",
      "epoch 1/10, step 6000/12500, loss = 2.2760\n",
      "epoch 1/10, step 8000/12500, loss = 2.2678\n",
      "epoch 1/10, step 10000/12500, loss = 2.1419\n",
      "epoch 1/10, step 12000/12500, loss = 2.6886\n",
      "epoch 2/10, step 2000/12500, loss = 1.6936\n",
      "epoch 2/10, step 4000/12500, loss = 2.0813\n",
      "epoch 2/10, step 6000/12500, loss = 2.2486\n",
      "epoch 2/10, step 8000/12500, loss = 1.8537\n",
      "epoch 2/10, step 10000/12500, loss = 1.8611\n",
      "epoch 2/10, step 12000/12500, loss = 1.2876\n",
      "epoch 3/10, step 2000/12500, loss = 1.7872\n",
      "epoch 3/10, step 4000/12500, loss = 2.6489\n",
      "epoch 3/10, step 6000/12500, loss = 1.3625\n",
      "epoch 3/10, step 8000/12500, loss = 1.2492\n",
      "epoch 3/10, step 10000/12500, loss = 1.9741\n",
      "epoch 3/10, step 12000/12500, loss = 2.2344\n",
      "epoch 4/10, step 2000/12500, loss = 1.7307\n",
      "epoch 4/10, step 4000/12500, loss = 1.2018\n",
      "epoch 4/10, step 6000/12500, loss = 0.9763\n",
      "epoch 4/10, step 8000/12500, loss = 0.8801\n",
      "epoch 4/10, step 10000/12500, loss = 2.2178\n",
      "epoch 4/10, step 12000/12500, loss = 1.7844\n",
      "epoch 5/10, step 2000/12500, loss = 1.1355\n",
      "epoch 5/10, step 4000/12500, loss = 2.7284\n",
      "epoch 5/10, step 6000/12500, loss = 0.9872\n",
      "epoch 5/10, step 8000/12500, loss = 1.0084\n",
      "epoch 5/10, step 10000/12500, loss = 2.6626\n",
      "epoch 5/10, step 12000/12500, loss = 1.3767\n",
      "epoch 6/10, step 2000/12500, loss = 1.1747\n",
      "epoch 6/10, step 4000/12500, loss = 1.5294\n",
      "epoch 6/10, step 6000/12500, loss = 0.9217\n",
      "epoch 6/10, step 8000/12500, loss = 1.5507\n",
      "epoch 6/10, step 10000/12500, loss = 1.5588\n",
      "epoch 6/10, step 12000/12500, loss = 1.6897\n",
      "epoch 7/10, step 2000/12500, loss = 0.7083\n",
      "epoch 7/10, step 4000/12500, loss = 1.3678\n",
      "epoch 7/10, step 6000/12500, loss = 1.5028\n",
      "epoch 7/10, step 8000/12500, loss = 0.4743\n",
      "epoch 7/10, step 10000/12500, loss = 1.5768\n",
      "epoch 7/10, step 12000/12500, loss = 0.9133\n",
      "epoch 8/10, step 2000/12500, loss = 0.7240\n",
      "epoch 8/10, step 4000/12500, loss = 1.2956\n",
      "epoch 8/10, step 6000/12500, loss = 0.9042\n",
      "epoch 8/10, step 8000/12500, loss = 1.3712\n",
      "epoch 8/10, step 10000/12500, loss = 0.6579\n",
      "epoch 8/10, step 12000/12500, loss = 1.8913\n",
      "epoch 9/10, step 2000/12500, loss = 1.2867\n",
      "epoch 9/10, step 4000/12500, loss = 0.7149\n",
      "epoch 9/10, step 6000/12500, loss = 2.0880\n",
      "epoch 9/10, step 8000/12500, loss = 0.6651\n",
      "epoch 9/10, step 10000/12500, loss = 0.9142\n",
      "epoch 9/10, step 12000/12500, loss = 0.5879\n",
      "epoch 10/10, step 2000/12500, loss = 2.1522\n",
      "epoch 10/10, step 4000/12500, loss = 0.9297\n",
      "epoch 10/10, step 6000/12500, loss = 1.7091\n",
      "epoch 10/10, step 8000/12500, loss = 0.2026\n",
      "epoch 10/10, step 10000/12500, loss = 1.9403\n",
      "epoch 10/10, step 12000/12500, loss = 2.7756\n"
     ]
    }
   ],
   "source": [
    "n_total_step = len(train_loader)\n",
    "for epoch in range(num_epochs):\n",
    "    for i, (images, labels) in enumerate(train_loader):\n",
    "        images = images.to(device)\n",
    "        labels = labels.to(device)\n",
    "\n",
    "        outputs = model(images)\n",
    "\n",
    "        loss = criterion(outputs,labels)\n",
    "\n",
    "        optimizer.zero_grad()\n",
    "        loss.backward()\n",
    "        optimizer.step()\n",
    "\n",
    "        if (i+1) % 2000 == 0:\n",
    "            print(f'epoch {epoch+1}/{num_epochs}, step {i+1}/{n_total_step}, loss = {loss.item():.4f}')\n",
    "            "
   ]
  },
  {
   "cell_type": "code",
   "execution_count": 23,
   "metadata": {},
   "outputs": [
    {
     "name": "stdout",
     "output_type": "stream",
     "text": [
      "accuracy = 58.15\n"
     ]
    }
   ],
   "source": [
    "with torch.no_grad():\n",
    "    n_correct = 0\n",
    "    n_samples = 0\n",
    "    n_class_correct = [0 for i in range(10)]\n",
    "    n_class_samples = [0 for i in range(10)]\n",
    "    for images, labels in test_loader:\n",
    "        images = images.to(device)\n",
    "        labels = labels.to(device)\n",
    "        outputs = model(images)\n",
    "        # max returns (value ,index)\n",
    "        _, predicted = torch.max(outputs, 1)\n",
    "        n_samples += labels.size(0)\n",
    "        n_correct += (predicted == labels).sum().item()\n",
    "        \n",
    "        for i in range(batch_size):\n",
    "            label = labels[i]\n",
    "            pred = predicted[i]\n",
    "            if (label == pred):\n",
    "                n_class_correct[label] += 1\n",
    "            n_class_samples[label] += 1\n",
    "\n",
    "    acc = 100.0 * n_correct / n_samples\n",
    "    print(f'accuracy = {acc}%')"
   ]
  },
  {
   "cell_type": "code",
   "execution_count": null,
   "metadata": {},
   "outputs": [],
   "source": []
  }
 ],
 "metadata": {
  "kernelspec": {
   "display_name": "tensorflow",
   "language": "python",
   "name": "python3"
  },
  "language_info": {
   "codemirror_mode": {
    "name": "ipython",
    "version": 3
   },
   "file_extension": ".py",
   "mimetype": "text/x-python",
   "name": "python",
   "nbconvert_exporter": "python",
   "pygments_lexer": "ipython3",
   "version": "3.8.17"
  }
 },
 "nbformat": 4,
 "nbformat_minor": 2
}
